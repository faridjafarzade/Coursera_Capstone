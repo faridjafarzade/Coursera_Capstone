{
    "cells": [
        {
            "metadata": {
                "collapsed": true
            },
            "cell_type": "markdown",
            "source": "<h1>Battle of the Neighborhoods</h1>\n\n<h2>Business problem/Introduction</h2>\n<p>In this project we will try to find an optimal location for a restaurant. Specifically, this report will be targeted to stakeholders interested in opening a Taco restaurant in Toronto.\nSince there are lots of restaurants in Toronto we will try to get locations that are not already crowded with restaurants. We are also particularly interested in areas with no Italian restaurants in vicinity. \nWe will use our data science powers to generate a few most promising neighborhoods based on this criteria. Advantages of each area will then be clearly expressed so that best possible final location can be chosen by stakeholders.</p>\n"
        },
        {
            "metadata": {},
            "cell_type": "markdown",
            "source": "<h3>Interest </h3>\n<p>This project would be of great interest to any entrepreneur looking to open up a taco restaurant in Toronto. The same methods could also be used for entrepreneurs looking to open up businesses of any variety, by making just a few necessary tweaks to fit the category.</p> \n"
        },
        {
            "metadata": {},
            "cell_type": "markdown",
            "source": "<h2>Data</h2>\n<p>Given the business problem stated above, the factors that would determine where an ideal\nplace to open up a taco restaurant would be the number/location of existing taco restaurants in 2 of 10\nToronto, as well as the number/location of existing office buildings in Toronto. Therefore, the\nfollowing data sources will be used for this project:\n</p>\n<ul>\n<li>Postal code data will be sourced from the following Wikipedia page:\nhttps://en.wikipedia.org/wiki/List_of_postal_codes_of_Canada:_M\n</li>\n<li>Geographical coordinates will be sourced from the following .csv link:\nhttp://cocl.us/Geospatial_data\n</li>\n<li>taco restaurant and office building data will be sourced from Foursquare API\n</li>\n<ul>"
        },
        {
            "metadata": {},
            "cell_type": "code",
            "source": "",
            "execution_count": null,
            "outputs": []
        }
    ],
    "metadata": {
        "kernelspec": {
            "name": "python3",
            "display_name": "Python 3.7",
            "language": "python"
        },
        "language_info": {
            "name": "python",
            "version": "3.7.9",
            "mimetype": "text/x-python",
            "codemirror_mode": {
                "name": "ipython",
                "version": 3
            },
            "pygments_lexer": "ipython3",
            "nbconvert_exporter": "python",
            "file_extension": ".py"
        }
    },
    "nbformat": 4,
    "nbformat_minor": 1
}