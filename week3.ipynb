{
    "cells": [
        {
            "metadata": {},
            "cell_type": "code",
            "source": "#conda install -c conda-forge geopy",
            "execution_count": 1,
            "outputs": []
        },
        {
            "metadata": {},
            "cell_type": "code",
            "source": "from geopy.geocoders import Nominatim\nfrom bs4 import BeautifulSoup # this module helps in web scrapping.\nimport requests\nfrom arcgis.geocoding import geocode",
            "execution_count": 2,
            "outputs": [
                {
                    "output_type": "stream",
                    "text": "/opt/conda/envs/Python-3.7-main/lib/python3.7/site-packages/arcgis/features/_data/geodataset/utils.py:16: FutureWarning: The pandas.datetime class is deprecated and will be removed from pandas in a future version. Import from datetime module instead.\n  pd.datetime,\n",
                    "name": "stderr"
                }
            ]
        },
        {
            "metadata": {},
            "cell_type": "code",
            "source": "url = \"https://en.wikipedia.org/wiki/List_of_postal_codes_of_Canada:_M\"",
            "execution_count": 3,
            "outputs": []
        },
        {
            "metadata": {},
            "cell_type": "code",
            "source": "data  = requests.get(url).text \n",
            "execution_count": 4,
            "outputs": []
        },
        {
            "metadata": {},
            "cell_type": "code",
            "source": "import numpy as np\nimport pandas as pd\n\ndata  = requests.get(url).text \n\nsoup = BeautifulSoup(data,\"html5lib\")\ntable = soup.find('table')\n\ndata= \"\"\ndfd = []\nthedict = {}\n\nfor row in table.find_all('tr'): \n    cols = row.find_all('td')\n    postal_code = '';\n    if len(cols) > 2 :\n        postal_code = str(cols[0].getText().rstrip())\n        borough = cols[1].getText().rstrip() \n        neighbourhood= cols[2].getText().rstrip()\n        if postal_code != 'Not assigned' and borough != 'Not assigned' and neighbourhood != 'Not assigned':\n            \n            \n           \n                \n            try:\n                print(thedict[postal_code])\n            except:\n                arrt=[postal_code,borough,neighbourhood]\n                thedict[postal_code] = arrt\n             \nfor x in thedict.keys():\n    dfd.append(thedict[x])\n\n             \n        \ndf = pd.DataFrame(dfd, columns = ['Postal Code','Borough','Neighbourhood'])\nprint(df.head())\n        \n        \n",
            "execution_count": 5,
            "outputs": [
                {
                    "output_type": "stream",
                    "text": "  Postal Code           Borough                                Neighbourhood\n0         M3A        North York                                    Parkwoods\n1         M4A        North York                             Victoria Village\n2         M5A  Downtown Toronto                    Regent Park, Harbourfront\n3         M6A        North York             Lawrence Manor, Lawrence Heights\n4         M7A  Downtown Toronto  Queen's Park, Ontario Provincial Government\n",
                    "name": "stdout"
                }
            ]
        },
        {
            "metadata": {},
            "cell_type": "code",
            "source": "#latitude=[]\n#longitude=[]\n#geolocator = Nominatim(user_agent=\"specify_your_app_name_here\")\n#for code in df['Postal Code']:\n    \n#    g = geolocator.geocode('{}, Toronto, Ontario'.format(code))\n#    print(code, g.latlng)\n#    while (g.latlng is None):\n#        g = geolocator.geocode('{}, Toronto, Ontario'.format(code))\n#        print(code, g.latlng)\n#    latlng = g.latlng\n#    latitude.append(latlng[0])\n#    longitude.append(latlng[1])\n",
            "execution_count": 6,
            "outputs": []
        },
        {
            "metadata": {},
            "cell_type": "code",
            "source": "\nprint(df.shape)",
            "execution_count": 7,
            "outputs": [
                {
                    "output_type": "stream",
                    "text": "(103, 3)\n",
                    "name": "stdout"
                }
            ]
        },
        {
            "metadata": {},
            "cell_type": "code",
            "source": "",
            "execution_count": null,
            "outputs": []
        }
    ],
    "metadata": {
        "kernelspec": {
            "name": "python3",
            "display_name": "Python 3.7",
            "language": "python"
        },
        "language_info": {
            "name": "python",
            "version": "3.7.9",
            "mimetype": "text/x-python",
            "codemirror_mode": {
                "name": "ipython",
                "version": 3
            },
            "pygments_lexer": "ipython3",
            "nbconvert_exporter": "python",
            "file_extension": ".py"
        }
    },
    "nbformat": 4,
    "nbformat_minor": 1
}