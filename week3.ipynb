{
    "cells": [
        {
            "metadata": {},
            "cell_type": "code",
            "source": "#conda install -c conda-forge geopy",
            "execution_count": 1,
            "outputs": []
        },
        {
            "metadata": {},
            "cell_type": "code",
            "source": "from geopy.geocoders import Nominatim\nfrom bs4 import BeautifulSoup # this module helps in web scrapping.\nimport requests\nfrom arcgis.geocoding import geocode",
            "execution_count": 2,
            "outputs": [
                {
                    "output_type": "stream",
                    "text": "/opt/conda/envs/Python-3.7-main/lib/python3.7/site-packages/arcgis/features/_data/geodataset/utils.py:16: FutureWarning: The pandas.datetime class is deprecated and will be removed from pandas in a future version. Import from datetime module instead.\n  pd.datetime,\n",
                    "name": "stderr"
                }
            ]
        },
        {
            "metadata": {},
            "cell_type": "code",
            "source": "url = \"https://en.wikipedia.org/wiki/List_of_postal_codes_of_Canada:_M\"",
            "execution_count": 3,
            "outputs": []
        },
        {
            "metadata": {},
            "cell_type": "code",
            "source": "data  = requests.get(url).text \n",
            "execution_count": 4,
            "outputs": []
        },
        {
            "metadata": {},
            "cell_type": "code",
            "source": "import numpy as np\nimport pandas as pd\n\ndata  = requests.get(url).text \n\nsoup = BeautifulSoup(data,\"html5lib\")\ntable = soup.find('table')\n\ndata= \"\"\ndfd = []\nthedict = {}\n\nfor row in table.find_all('tr'): \n    cols = row.find_all('td')\n    postal_code = '';\n    if len(cols) > 2 :\n        postal_code = str(cols[0].getText().rstrip())\n        borough = cols[1].getText().rstrip() \n        neighbourhood= cols[2].getText().rstrip()\n        if postal_code != 'Not assigned' and borough != 'Not assigned' and neighbourhood != 'Not assigned':\n            \n            \n           \n                \n            try:\n                print(thedict[postal_code])\n            except:\n                arrt=[postal_code,borough,neighbourhood]\n                thedict[postal_code] = arrt\n             \nfor x in thedict.keys():\n    dfd.append(thedict[x])\n\n             \n        \ndf = pd.DataFrame(dfd, columns = ['Postal Code','Borough','Neighbourhood'])\nprint(df.head())\n        \n        \n",
            "execution_count": 5,
            "outputs": [
                {
                    "output_type": "stream",
                    "text": "  Postal Code           Borough                                Neighbourhood\n0         M3A        North York                                    Parkwoods\n1         M4A        North York                             Victoria Village\n2         M5A  Downtown Toronto                    Regent Park, Harbourfront\n3         M6A        North York             Lawrence Manor, Lawrence Heights\n4         M7A  Downtown Toronto  Queen's Park, Ontario Provincial Government\n",
                    "name": "stdout"
                }
            ]
        },
        {
            "metadata": {},
            "cell_type": "code",
            "source": "#latitude=[]\n#longitude=[]\n#geolocator = Nominatim(user_agent=\"specify_your_app_name_here\")\n#for code in df['Postal Code']:\n    \n#    g = geolocator.geocode('{}, Toronto, Ontario'.format(code))\n#    print(code, g.latlng)\n#    while (g.latlng is None):\n#        g = geolocator.geocode('{}, Toronto, Ontario'.format(code))\n#        print(code, g.latlng)\n#    latlng = g.latlng\n#    latitude.append(latlng[0])\n#    longitude.append(latlng[1])\n",
            "execution_count": 6,
            "outputs": []
        },
        {
            "metadata": {},
            "cell_type": "code",
            "source": "\nprint(df.shape)",
            "execution_count": 7,
            "outputs": [
                {
                    "output_type": "stream",
                    "text": "(103, 3)\n",
                    "name": "stdout"
                }
            ]
        },
        {
            "metadata": {},
            "cell_type": "code",
            "source": "!wget -q -O \"toronto_coordinates.csv\" http://cocl.us/Geospatial_data\nprint('Coordinates downloaded!')\ncoors = pd.read_csv('toronto_coordinates.csv')",
            "execution_count": 8,
            "outputs": [
                {
                    "output_type": "stream",
                    "text": "Coordinates downloaded!\n",
                    "name": "stdout"
                }
            ]
        },
        {
            "metadata": {},
            "cell_type": "code",
            "source": "print(coors.shape)\ncoors.head()",
            "execution_count": 9,
            "outputs": [
                {
                    "output_type": "stream",
                    "text": "(103, 3)\n",
                    "name": "stdout"
                },
                {
                    "output_type": "execute_result",
                    "execution_count": 9,
                    "data": {
                        "text/plain": "  Postal Code   Latitude  Longitude\n0         M1B  43.806686 -79.194353\n1         M1C  43.784535 -79.160497\n2         M1E  43.763573 -79.188711\n3         M1G  43.770992 -79.216917\n4         M1H  43.773136 -79.239476",
                        "text/html": "<div>\n<style scoped>\n    .dataframe tbody tr th:only-of-type {\n        vertical-align: middle;\n    }\n\n    .dataframe tbody tr th {\n        vertical-align: top;\n    }\n\n    .dataframe thead th {\n        text-align: right;\n    }\n</style>\n<table border=\"1\" class=\"dataframe\">\n  <thead>\n    <tr style=\"text-align: right;\">\n      <th></th>\n      <th>Postal Code</th>\n      <th>Latitude</th>\n      <th>Longitude</th>\n    </tr>\n  </thead>\n  <tbody>\n    <tr>\n      <th>0</th>\n      <td>M1B</td>\n      <td>43.806686</td>\n      <td>-79.194353</td>\n    </tr>\n    <tr>\n      <th>1</th>\n      <td>M1C</td>\n      <td>43.784535</td>\n      <td>-79.160497</td>\n    </tr>\n    <tr>\n      <th>2</th>\n      <td>M1E</td>\n      <td>43.763573</td>\n      <td>-79.188711</td>\n    </tr>\n    <tr>\n      <th>3</th>\n      <td>M1G</td>\n      <td>43.770992</td>\n      <td>-79.216917</td>\n    </tr>\n    <tr>\n      <th>4</th>\n      <td>M1H</td>\n      <td>43.773136</td>\n      <td>-79.239476</td>\n    </tr>\n  </tbody>\n</table>\n</div>"
                    },
                    "metadata": {}
                }
            ]
        },
        {
            "metadata": {},
            "cell_type": "code",
            "source": "from geopy.geocoders import Nominatim # convert an address into latitude and longitude values\naddress = 'Toronto'\ngeolocator = Nominatim(user_agent=\"JAC\")\nlocation = geolocator.geocode(address)\nlat = location.latitude\nlon = location.longitude\nprint('The geograpical coordinate of Toronto are {}, {}.'.format(lat, lon))",
            "execution_count": 10,
            "outputs": [
                {
                    "output_type": "stream",
                    "text": "The geograpical coordinate of Toronto are 43.6534817, -79.3839347.\n",
                    "name": "stdout"
                }
            ]
        },
        {
            "metadata": {},
            "cell_type": "code",
            "source": "conda install -c conda-forge folium=0.5.0\n",
            "execution_count": null,
            "outputs": [
                {
                    "output_type": "stream",
                    "text": "Collecting package metadata (current_repodata.json): done\nSolving environment: failed with initial frozen solve. Retrying with flexible solve.\nCollecting package metadata (repodata.json): / ",
                    "name": "stdout"
                }
            ]
        },
        {
            "metadata": {},
            "cell_type": "code",
            "source": "import folium\n\n# let's start again with a clean copy of the map of San Francisco\nmap_toronto = folium.Map(location = [lat, lon], zoom_start = 10)\n\n# instantiate a marker cluster object for the postcodes in the dataframe\npostcodes = plugins.MarkerCluster().add_to(map_toronto)\n\n# loop through the dataframe and add each data point to the mark cluster\nfor lat, lon, postcode in zip(df_etl['Latitude'], df_etl['Longitude'], df_etl['Postcode']):\n    label = 'lat-long: {}<br>Postcode: {}'.format(location[1], postcode)\n    label = folium.Popup(label, parse_html=False)\n    folium.Marker(\n        location=[lat, lon],\n        icon=folium.Icon(color='green', icon='ok-sign'),\n        popup=label\n    ).add_to(postcodes)\n\n# display map\nmap_toronto",
            "execution_count": 17,
            "outputs": [
                {
                    "output_type": "error",
                    "ename": "ModuleNotFoundError",
                    "evalue": "No module named 'folium'",
                    "traceback": [
                        "\u001b[0;31m---------------------------------------------------------------------------\u001b[0m",
                        "\u001b[0;31mModuleNotFoundError\u001b[0m                       Traceback (most recent call last)",
                        "\u001b[0;32m<ipython-input-17-03628a38e687>\u001b[0m in \u001b[0;36m<module>\u001b[0;34m\u001b[0m\n\u001b[0;32m----> 1\u001b[0;31m \u001b[0;32mimport\u001b[0m \u001b[0mfolium\u001b[0m\u001b[0;34m\u001b[0m\u001b[0;34m\u001b[0m\u001b[0m\n\u001b[0m\u001b[1;32m      2\u001b[0m \u001b[0;34m\u001b[0m\u001b[0m\n\u001b[1;32m      3\u001b[0m \u001b[0;31m# let's start again with a clean copy of the map of San Francisco\u001b[0m\u001b[0;34m\u001b[0m\u001b[0;34m\u001b[0m\u001b[0;34m\u001b[0m\u001b[0m\n\u001b[1;32m      4\u001b[0m \u001b[0mmap_toronto\u001b[0m \u001b[0;34m=\u001b[0m \u001b[0mfolium\u001b[0m\u001b[0;34m.\u001b[0m\u001b[0mMap\u001b[0m\u001b[0;34m(\u001b[0m\u001b[0mlocation\u001b[0m \u001b[0;34m=\u001b[0m \u001b[0;34m[\u001b[0m\u001b[0mlat\u001b[0m\u001b[0;34m,\u001b[0m \u001b[0mlon\u001b[0m\u001b[0;34m]\u001b[0m\u001b[0;34m,\u001b[0m \u001b[0mzoom_start\u001b[0m \u001b[0;34m=\u001b[0m \u001b[0;36m10\u001b[0m\u001b[0;34m)\u001b[0m\u001b[0;34m\u001b[0m\u001b[0;34m\u001b[0m\u001b[0m\n\u001b[1;32m      5\u001b[0m \u001b[0;34m\u001b[0m\u001b[0m\n",
                        "\u001b[0;31mModuleNotFoundError\u001b[0m: No module named 'folium'"
                    ]
                }
            ]
        },
        {
            "metadata": {},
            "cell_type": "code",
            "source": "",
            "execution_count": null,
            "outputs": []
        }
    ],
    "metadata": {
        "kernelspec": {
            "name": "python3",
            "display_name": "Python 3.7",
            "language": "python"
        },
        "language_info": {
            "name": "python",
            "version": "3.7.9",
            "mimetype": "text/x-python",
            "codemirror_mode": {
                "name": "ipython",
                "version": 3
            },
            "pygments_lexer": "ipython3",
            "nbconvert_exporter": "python",
            "file_extension": ".py"
        }
    },
    "nbformat": 4,
    "nbformat_minor": 1
}